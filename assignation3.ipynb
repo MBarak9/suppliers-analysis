{
 "cells": [
  {
   "cell_type": "code",
   "execution_count": 41,
   "metadata": {
    "colab": {
     "base_uri": "https://localhost:8080/"
    },
    "id": "WXosKjFod9YE",
    "outputId": "d913e26e-a242-4759-fed4-70d77f56ca08"
   },
   "outputs": [
    {
     "name": "stdout",
     "output_type": "stream",
     "text": [
      "Requirement already satisfied: pulp in c:\\users\\ouroa\\anaconda3\\lib\\site-packages (2.7.0)Note: you may need to restart the kernel to use updated packages.\n",
      "\n"
     ]
    }
   ],
   "source": [
    "pip install pulp"
   ]
  },
  {
   "cell_type": "code",
   "execution_count": 42,
   "metadata": {
    "id": "zg27ohjTlm1D"
   },
   "outputs": [],
   "source": [
    "import pandas as pd\n",
    "from pulp import *"
   ]
  },
  {
   "cell_type": "code",
   "execution_count": 43,
   "metadata": {
    "id": "8RMZVBLjkXKA"
   },
   "outputs": [],
   "source": [
    "# Nom du fichier Excel contenant les données\n",
    "filename = \"data (6).xlsx\"\n",
    "\n",
    "# Importer la première feuille Excel dans un dataframe\n",
    "aulas = pd.read_excel(filename, sheet_name='aulas')\n",
    "\n",
    "# Importer la deuxième feuille Excel dans un dataframe\n",
    "cursos = pd.read_excel(filename, sheet_name='cursos')\n",
    "\n",
    "# Importer la troisième feuille Excel dans un dataframe\n",
    "profesores = pd.read_excel(filename, sheet_name='profesors')\n",
    "\n",
    "# Importer la quatrième feuille Excel dans un dataframe\n",
    "excepcion = pd.read_excel(filename, sheet_name='excepcion')\n",
    "\n",
    "# Jours de la semaine\n",
    "dias = ['Lunes', 'Martes', 'Miércoles', 'Jueves', 'Viernes']"
   ]
  },
  {
   "cell_type": "code",
   "execution_count": 44,
   "metadata": {
    "colab": {
     "base_uri": "https://localhost:8080/",
     "height": 300
    },
    "id": "xW4QBt_Fmk8g",
    "outputId": "4e4db3ec-5146-4fc4-c1b5-372af28d8c21"
   },
   "outputs": [
    {
     "data": {
      "text/html": [
       "<div>\n",
       "<style scoped>\n",
       "    .dataframe tbody tr th:only-of-type {\n",
       "        vertical-align: middle;\n",
       "    }\n",
       "\n",
       "    .dataframe tbody tr th {\n",
       "        vertical-align: top;\n",
       "    }\n",
       "\n",
       "    .dataframe thead th {\n",
       "        text-align: right;\n",
       "    }\n",
       "</style>\n",
       "<table border=\"1\" class=\"dataframe\">\n",
       "  <thead>\n",
       "    <tr style=\"text-align: right;\">\n",
       "      <th></th>\n",
       "      <th>nombre</th>\n",
       "      <th>edificio</th>\n",
       "      <th>capacidad</th>\n",
       "    </tr>\n",
       "  </thead>\n",
       "  <tbody>\n",
       "    <tr>\n",
       "      <th>0</th>\n",
       "      <td>m0.1</td>\n",
       "      <td>edificio1</td>\n",
       "      <td>22</td>\n",
       "    </tr>\n",
       "    <tr>\n",
       "      <th>1</th>\n",
       "      <td>m0.2</td>\n",
       "      <td>edificio2</td>\n",
       "      <td>23</td>\n",
       "    </tr>\n",
       "    <tr>\n",
       "      <th>2</th>\n",
       "      <td>m0.3</td>\n",
       "      <td>edificio2</td>\n",
       "      <td>20</td>\n",
       "    </tr>\n",
       "    <tr>\n",
       "      <th>3</th>\n",
       "      <td>m0.4</td>\n",
       "      <td>edificio1</td>\n",
       "      <td>26</td>\n",
       "    </tr>\n",
       "    <tr>\n",
       "      <th>4</th>\n",
       "      <td>m1.1</td>\n",
       "      <td>edificio2</td>\n",
       "      <td>20</td>\n",
       "    </tr>\n",
       "    <tr>\n",
       "      <th>5</th>\n",
       "      <td>m1.2</td>\n",
       "      <td>edificio1</td>\n",
       "      <td>18</td>\n",
       "    </tr>\n",
       "    <tr>\n",
       "      <th>6</th>\n",
       "      <td>m1.3</td>\n",
       "      <td>edificio2</td>\n",
       "      <td>26</td>\n",
       "    </tr>\n",
       "    <tr>\n",
       "      <th>7</th>\n",
       "      <td>m1.4</td>\n",
       "      <td>edificio1</td>\n",
       "      <td>25</td>\n",
       "    </tr>\n",
       "  </tbody>\n",
       "</table>\n",
       "</div>"
      ],
      "text/plain": [
       "  nombre   edificio  capacidad\n",
       "0   m0.1  edificio1         22\n",
       "1   m0.2  edificio2         23\n",
       "2   m0.3  edificio2         20\n",
       "3   m0.4  edificio1         26\n",
       "4   m1.1  edificio2         20\n",
       "5   m1.2  edificio1         18\n",
       "6   m1.3  edificio2         26\n",
       "7   m1.4  edificio1         25"
      ]
     },
     "execution_count": 44,
     "metadata": {},
     "output_type": "execute_result"
    }
   ],
   "source": [
    "aulas"
   ]
  },
  {
   "cell_type": "code",
   "execution_count": 45,
   "metadata": {
    "colab": {
     "base_uri": "https://localhost:8080/",
     "height": 426
    },
    "id": "kIJUxpmxmpf3",
    "outputId": "d56df296-2be9-42f6-b945-1d786606e823"
   },
   "outputs": [
    {
     "data": {
      "text/html": [
       "<div>\n",
       "<style scoped>\n",
       "    .dataframe tbody tr th:only-of-type {\n",
       "        vertical-align: middle;\n",
       "    }\n",
       "\n",
       "    .dataframe tbody tr th {\n",
       "        vertical-align: top;\n",
       "    }\n",
       "\n",
       "    .dataframe thead th {\n",
       "        text-align: right;\n",
       "    }\n",
       "</style>\n",
       "<table border=\"1\" class=\"dataframe\">\n",
       "  <thead>\n",
       "    <tr style=\"text-align: right;\">\n",
       "      <th></th>\n",
       "      <th>nombre</th>\n",
       "      <th>idioma</th>\n",
       "      <th>nivel</th>\n",
       "      <th>dias</th>\n",
       "      <th>horario</th>\n",
       "      <th>professor</th>\n",
       "      <th>estudiante</th>\n",
       "    </tr>\n",
       "  </thead>\n",
       "  <tbody>\n",
       "    <tr>\n",
       "      <th>0</th>\n",
       "      <td>curso1</td>\n",
       "      <td>Inglès</td>\n",
       "      <td>A2</td>\n",
       "      <td>[\"Martes\"]</td>\n",
       "      <td>14:10-15:50</td>\n",
       "      <td>profesor1</td>\n",
       "      <td>20</td>\n",
       "    </tr>\n",
       "    <tr>\n",
       "      <th>1</th>\n",
       "      <td>curso2</td>\n",
       "      <td>Inglès</td>\n",
       "      <td>A1</td>\n",
       "      <td>[\"Lunes\",\"Miércoles\"]</td>\n",
       "      <td>17:15-18:55</td>\n",
       "      <td>profesor1</td>\n",
       "      <td>26</td>\n",
       "    </tr>\n",
       "    <tr>\n",
       "      <th>2</th>\n",
       "      <td>curso3</td>\n",
       "      <td>Inglès</td>\n",
       "      <td>A1</td>\n",
       "      <td>[\"Martes\",\"Jueves\"]</td>\n",
       "      <td>17:15-18:55</td>\n",
       "      <td>profesor1</td>\n",
       "      <td>24</td>\n",
       "    </tr>\n",
       "    <tr>\n",
       "      <th>3</th>\n",
       "      <td>curso4</td>\n",
       "      <td>Inglès</td>\n",
       "      <td>A1</td>\n",
       "      <td>[\"Lunes\",\"Miércoles\"]</td>\n",
       "      <td>19:00-20:40</td>\n",
       "      <td>profesor1</td>\n",
       "      <td>18</td>\n",
       "    </tr>\n",
       "    <tr>\n",
       "      <th>4</th>\n",
       "      <td>curso5</td>\n",
       "      <td>Inglès</td>\n",
       "      <td>A1</td>\n",
       "      <td>[\"Martes\",\"Jueves\"]</td>\n",
       "      <td>19:00-20:40</td>\n",
       "      <td>profesor1</td>\n",
       "      <td>24</td>\n",
       "    </tr>\n",
       "    <tr>\n",
       "      <th>5</th>\n",
       "      <td>curso6</td>\n",
       "      <td>Alemàn</td>\n",
       "      <td>A1</td>\n",
       "      <td>[\"Lunes\",\"Miércoles\"]</td>\n",
       "      <td>17:15-18:55</td>\n",
       "      <td>profesor2</td>\n",
       "      <td>26</td>\n",
       "    </tr>\n",
       "    <tr>\n",
       "      <th>6</th>\n",
       "      <td>curso7</td>\n",
       "      <td>Alemàn</td>\n",
       "      <td>A1</td>\n",
       "      <td>[\"Lunes\",\"Miércoles\"]</td>\n",
       "      <td>19:00-20:40</td>\n",
       "      <td>profesor2</td>\n",
       "      <td>17</td>\n",
       "    </tr>\n",
       "    <tr>\n",
       "      <th>7</th>\n",
       "      <td>curso8</td>\n",
       "      <td>Frances</td>\n",
       "      <td>A2</td>\n",
       "      <td>[\"Lunes\"]</td>\n",
       "      <td>12:10-13:50</td>\n",
       "      <td>profesor3</td>\n",
       "      <td>18</td>\n",
       "    </tr>\n",
       "    <tr>\n",
       "      <th>8</th>\n",
       "      <td>curso9</td>\n",
       "      <td>Alemàn</td>\n",
       "      <td>A1</td>\n",
       "      <td>[\"Martes\",\"Viernes\"]</td>\n",
       "      <td>17:15-18:55</td>\n",
       "      <td>profesor2</td>\n",
       "      <td>26</td>\n",
       "    </tr>\n",
       "    <tr>\n",
       "      <th>9</th>\n",
       "      <td>curso10</td>\n",
       "      <td>Frances</td>\n",
       "      <td>A1</td>\n",
       "      <td>[\"Lunes\",\"Miércoles\"]</td>\n",
       "      <td>08:10-09:50</td>\n",
       "      <td>profesor3</td>\n",
       "      <td>17</td>\n",
       "    </tr>\n",
       "    <tr>\n",
       "      <th>10</th>\n",
       "      <td>curso11</td>\n",
       "      <td>Frances</td>\n",
       "      <td>A2</td>\n",
       "      <td>[\"Viernes\"]</td>\n",
       "      <td>10:10-11:50</td>\n",
       "      <td>profesor3</td>\n",
       "      <td>26</td>\n",
       "    </tr>\n",
       "    <tr>\n",
       "      <th>11</th>\n",
       "      <td>curso12</td>\n",
       "      <td>Alemàn</td>\n",
       "      <td>A2</td>\n",
       "      <td>[\"Lunes\",\"Viernes\"]</td>\n",
       "      <td>14:10-15:50</td>\n",
       "      <td>profesor3</td>\n",
       "      <td>26</td>\n",
       "    </tr>\n",
       "  </tbody>\n",
       "</table>\n",
       "</div>"
      ],
      "text/plain": [
       "     nombre   idioma nivel                   dias      horario  professor  \\\n",
       "0    curso1   Inglès    A2             [\"Martes\"]  14:10-15:50  profesor1   \n",
       "1    curso2   Inglès    A1  [\"Lunes\",\"Miércoles\"]  17:15-18:55  profesor1   \n",
       "2    curso3   Inglès    A1    [\"Martes\",\"Jueves\"]  17:15-18:55  profesor1   \n",
       "3    curso4   Inglès    A1  [\"Lunes\",\"Miércoles\"]  19:00-20:40  profesor1   \n",
       "4    curso5   Inglès    A1    [\"Martes\",\"Jueves\"]  19:00-20:40  profesor1   \n",
       "5    curso6   Alemàn    A1  [\"Lunes\",\"Miércoles\"]  17:15-18:55  profesor2   \n",
       "6    curso7   Alemàn    A1  [\"Lunes\",\"Miércoles\"]  19:00-20:40  profesor2   \n",
       "7    curso8  Frances    A2              [\"Lunes\"]  12:10-13:50  profesor3   \n",
       "8    curso9   Alemàn    A1   [\"Martes\",\"Viernes\"]  17:15-18:55  profesor2   \n",
       "9   curso10  Frances    A1  [\"Lunes\",\"Miércoles\"]  08:10-09:50  profesor3   \n",
       "10  curso11  Frances    A2            [\"Viernes\"]  10:10-11:50  profesor3   \n",
       "11  curso12   Alemàn    A2    [\"Lunes\",\"Viernes\"]  14:10-15:50  profesor3   \n",
       "\n",
       "    estudiante  \n",
       "0           20  \n",
       "1           26  \n",
       "2           24  \n",
       "3           18  \n",
       "4           24  \n",
       "5           26  \n",
       "6           17  \n",
       "7           18  \n",
       "8           26  \n",
       "9           17  \n",
       "10          26  \n",
       "11          26  "
      ]
     },
     "execution_count": 45,
     "metadata": {},
     "output_type": "execute_result"
    }
   ],
   "source": [
    "cursos"
   ]
  },
  {
   "cell_type": "code",
   "execution_count": 46,
   "metadata": {
    "colab": {
     "base_uri": "https://localhost:8080/",
     "height": 175
    },
    "id": "y7L2_QWVmtTn",
    "outputId": "f38699dc-711e-457a-c642-c2d609fc028e"
   },
   "outputs": [
    {
     "data": {
      "text/html": [
       "<div>\n",
       "<style scoped>\n",
       "    .dataframe tbody tr th:only-of-type {\n",
       "        vertical-align: middle;\n",
       "    }\n",
       "\n",
       "    .dataframe tbody tr th {\n",
       "        vertical-align: top;\n",
       "    }\n",
       "\n",
       "    .dataframe thead th {\n",
       "        text-align: right;\n",
       "    }\n",
       "</style>\n",
       "<table border=\"1\" class=\"dataframe\">\n",
       "  <thead>\n",
       "    <tr style=\"text-align: right;\">\n",
       "      <th></th>\n",
       "      <th>nombre</th>\n",
       "      <th>lugares</th>\n",
       "      <th>idioma</th>\n",
       "    </tr>\n",
       "  </thead>\n",
       "  <tbody>\n",
       "    <tr>\n",
       "      <th>0</th>\n",
       "      <td>profesor1</td>\n",
       "      <td>[\"edificio1\", \"edificio2\"]</td>\n",
       "      <td>Inglès</td>\n",
       "    </tr>\n",
       "    <tr>\n",
       "      <th>1</th>\n",
       "      <td>profesor2</td>\n",
       "      <td>[\"edificio1\"]</td>\n",
       "      <td>Alemàn</td>\n",
       "    </tr>\n",
       "    <tr>\n",
       "      <th>2</th>\n",
       "      <td>profesor3</td>\n",
       "      <td>[\"edificio2\"]</td>\n",
       "      <td>Frances</td>\n",
       "    </tr>\n",
       "    <tr>\n",
       "      <th>3</th>\n",
       "      <td>profesor4</td>\n",
       "      <td>[\"edificio2\"]</td>\n",
       "      <td>Espanol</td>\n",
       "    </tr>\n",
       "  </tbody>\n",
       "</table>\n",
       "</div>"
      ],
      "text/plain": [
       "      nombre                     lugares   idioma\n",
       "0  profesor1  [\"edificio1\", \"edificio2\"]   Inglès\n",
       "1  profesor2               [\"edificio1\"]   Alemàn\n",
       "2  profesor3               [\"edificio2\"]  Frances\n",
       "3  profesor4               [\"edificio2\"]  Espanol"
      ]
     },
     "execution_count": 46,
     "metadata": {},
     "output_type": "execute_result"
    }
   ],
   "source": [
    "profesores"
   ]
  },
  {
   "cell_type": "code",
   "execution_count": 47,
   "metadata": {
    "colab": {
     "base_uri": "https://localhost:8080/",
     "height": 112
    },
    "id": "a215_B_Dm3G_",
    "outputId": "fe075739-c5fb-471e-9bca-22037c15e99c"
   },
   "outputs": [
    {
     "data": {
      "text/html": [
       "<div>\n",
       "<style scoped>\n",
       "    .dataframe tbody tr th:only-of-type {\n",
       "        vertical-align: middle;\n",
       "    }\n",
       "\n",
       "    .dataframe tbody tr th {\n",
       "        vertical-align: top;\n",
       "    }\n",
       "\n",
       "    .dataframe thead th {\n",
       "        text-align: right;\n",
       "    }\n",
       "</style>\n",
       "<table border=\"1\" class=\"dataframe\">\n",
       "  <thead>\n",
       "    <tr style=\"text-align: right;\">\n",
       "      <th></th>\n",
       "      <th>curso</th>\n",
       "      <th>aula</th>\n",
       "    </tr>\n",
       "  </thead>\n",
       "  <tbody>\n",
       "    <tr>\n",
       "      <th>0</th>\n",
       "      <td>curso7</td>\n",
       "      <td>m1.2</td>\n",
       "    </tr>\n",
       "  </tbody>\n",
       "</table>\n",
       "</div>"
      ],
      "text/plain": [
       "    curso  aula\n",
       "0  curso7  m1.2"
      ]
     },
     "execution_count": 47,
     "metadata": {},
     "output_type": "execute_result"
    }
   ],
   "source": [
    "excepcion"
   ]
  },
  {
   "cell_type": "code",
   "execution_count": 49,
   "metadata": {
    "id": "GFA2lmwndjCn"
   },
   "outputs": [],
   "source": [
    "\n",
    "  \"\"\"\n",
    "    Fonction pour faciliter l'extraction du nom du professeur assurant le cours\n",
    "    (à partir du nom du cours)\n",
    "\n",
    "  \"\"\"\n",
    "def get_professor(curso_nombre):\n",
    "    profesor = cursos.loc[cursos['nombre']==curso_nombre]['professor'].item()\n",
    "    return profesor\n",
    "\n",
    "\n",
    "\n",
    "  \"\"\"\n",
    "    Fonction pour faciliter l'extraction de la liste des bâtiments ou le prof intervient\n",
    "    (à partir du nom d'un cours assuré par ce dernier)\n",
    "\n",
    "  \"\"\"\n",
    "def get_edificios(curso_nombre):\n",
    "    edificio_list = eval(profesores.loc[profesores['nombre']==get_professor(curso_nombre)]['lugares'].item())\n",
    "    return edificio_list"
   ]
  },
  {
   "cell_type": "code",
   "execution_count": 89,
   "metadata": {
    "colab": {
     "base_uri": "https://localhost:8080/"
    },
    "id": "HhULq089rP9O",
    "outputId": "b7ce8e64-7c57-4557-b068-bf660ca6f9d4"
   },
   "outputs": [],
   "source": [
    "# Création du problème\n",
    "prob = LpProblem(\"Optimisation d'attribution des salles de classe\", LpMinimize)\n",
    "\n",
    "# Variables de décision\n",
    "\n",
    "'''x[c,a] : Variable binaire qui indique si un cours spécifique est assigné à une classe ou pas\n",
    "  x[c,a] = 1 si le cours c est attribué à la salle a''' \n",
    "x = LpVariable.dicts('',[(c,a) for c in cursos['nombre'] for a in aulas['nombre']], lowBound=0, upBound=None, cat='Binary')\n",
    "\n",
    "''' y[p,a] : Variable binaire qui indique si un prof spécifique utilise une salle spécifique.  \n",
    "    y[p,a] = 1 si le prof p utilise la salle a, 0 sinon'''\n",
    "y = LpVariable.dicts('',[(p,a) for p in profesores['nombre'] for a in aulas['nombre']], lowBound=0, upBound=None, cat='Binary')\n",
    "\n",
    "'''nb_salle : Variable entière qui indique le nombre de salles utilisées par un prof spécifique. '''\n",
    "nb_salles = LpVariable.dicts('',profesores['nombre'], lowBound=0, cat='LpInteger')"
   ]
  },
  {
   "cell_type": "code",
   "execution_count": 90,
   "metadata": {
    "id": "n6uVQxLEsCW8"
   },
   "outputs": [],
   "source": [
    "# Fonction-objectif\n",
    "\n",
    "'''Minimiser le nombre total de salles utilisées par tous les profs'''\n",
    "prob += lpSum(nb_salles[p] for p in profesores['nombre'])"
   ]
  },
  {
   "cell_type": "code",
   "execution_count": 91,
   "metadata": {
    "id": "BtvO8a3KO3I_"
   },
   "outputs": [],
   "source": [
    "# Contraintes\n",
    "\n",
    "'''Contrainte 1 : lie y et x, elle assure que si un cours enseigné par un prof p est assigné à la salle a (x[c,a]=1)\n",
    "   alors cette salle est utilisée par ce prof (y[p,a]=1)'''\n",
    "for p in profesores['nombre']:\n",
    "  for a in aulas['nombre']:\n",
    "    for c in cursos[cursos['professor']==p]['nombre']:\n",
    "      prob += y[p,a] >= x[c,a]\n",
    "\n",
    "'''Contrainte 2 : lie y à nb_salles, nb_salles[p] indique le nombre de salles utilisées par le prof p '''\n",
    "for p in profesores['nombre']:\n",
    "  prob += nb_salles[p] == lpSum(y[p,a] for a in aulas['nombre'])\n",
    "\n",
    "'''Contrainte 3 : assure que chaque cours est obligatoirement assigné à une salle unique'''\n",
    "for c in cursos['nombre']:\n",
    "  prob += lpSum(x[c,a] for a in aulas['nombre']) == 1\n",
    "\n",
    "'''Contrainte 4 : assure que le nombre d'étudiants du cours c ne dépasse pas \n",
    "   la capacité de la salle a qui lui a été assignée''' \n",
    "for i, c in enumerate(cursos['nombre']):\n",
    "  for j, a in enumerate(aulas['nombre']):\n",
    "    prob += x[c,a]*cursos.loc[i,'estudiante'] <= aulas.loc[j,'capacidad']\n",
    "\n",
    "'''Contrainte 5 : le cours spécifié doit être assigné à la salle spécifiée dans les exceptions'''\n",
    "for index, row in excepcion.iterrows():\n",
    "    curso = row['curso']\n",
    "    aula = row['aula']\n",
    "    prob += x[curso, aula] == 1\n",
    "\n",
    "'''Contrainte 6 : pour s'assurer que le prof n'a cours que dans le(s) bâtiment(s) où il intervient'''\n",
    "for a in aulas['nombre']:\n",
    "  edificio = aulas.loc[aulas['nombre']==a]['edificio'].item()\n",
    "  prob += lpSum(x[c,a] for c in cursos['nombre'] if edificio in get_edificios(c)) == lpSum(x[c,a] for c in cursos['nombre'])\n",
    "\n",
    "'''Contrainte 7 : assure que deux cours ayant lieu le même jour à la même horaire ne soientt pas assigné à la même salle'''\n",
    "horarios = cursos['horario'].unique()\n",
    "for a in aulas['nombre']:\n",
    "  for dia in dias:\n",
    "      for horaire in horarios:\n",
    "          cours_meme_horaire = cursos[(cursos['dias'].apply(lambda x: dia in x)) & (cursos['horario'] == horaire)]\n",
    "          if len(cours_meme_horaire)>1:\n",
    "              prob += lpSum(x[c,a] for c in cours_meme_horaire['nombre']) <= 1\n"
   ]
  },
  {
   "cell_type": "code",
   "execution_count": 92,
   "metadata": {
    "colab": {
     "base_uri": "https://localhost:8080/"
    },
    "id": "oqwwGpnKPeWc",
    "outputId": "07e7263c-b96d-4b25-f0b6-03115236a501"
   },
   "outputs": [
    {
     "name": "stdout",
     "output_type": "stream",
     "text": [
      "Status : Optimal\n",
      "nombre total de salles utilisées par tous les profs : 4.0\n"
     ]
    }
   ],
   "source": [
    "# Résolution du problème\n",
    "prob.solve()\n",
    "\n",
    "# Si la problème est iréalisable, afficher les contraintes à problèmes\n",
    "if LpStatus[prob.status] != \"Optimal\":\n",
    "    for contrainte in prob.constraints.values():\n",
    "        partie_décimale = value(contrainte)-int(value(contrainte))\n",
    "        if partie_décimale != 0:\n",
    "            print(contrainte, \"Valeur:\", value(contrainte))\n",
    "\n",
    "# Affichage des résultats\n",
    "print(\"Status :\", LpStatus[prob.status])\n",
    "print(\"nombre total de salles utilisées par tous les profs :\", value(prob.objective))"
   ]
  },
  {
   "cell_type": "code",
   "execution_count": 94,
   "metadata": {
    "colab": {
     "base_uri": "https://localhost:8080/"
    },
    "id": "UQxewuZwPygk",
    "outputId": "4c47fe53-9da4-406f-9e4c-189b8794c454"
   },
   "outputs": [
    {
     "name": "stdout",
     "output_type": "stream",
     "text": [
      "_('curso1',_'m1.3') 1.0\n",
      "_('curso2',_'m1.3') 1.0\n",
      "_('curso3',_'m1.3') 1.0\n",
      "_('curso4',_'m1.3') 1.0\n",
      "_('curso5',_'m1.3') 1.0\n",
      "_('curso6',_'m0.4') 1.0\n",
      "_('curso7',_'m1.2') 1.0\n",
      "_('curso8',_'m1.3') 1.0\n",
      "_('curso9',_'m0.4') 1.0\n",
      "_('curso10',_'m1.3') 1.0\n",
      "_('curso11',_'m1.3') 1.0\n",
      "_('curso12',_'m1.3') 1.0\n",
      "_('profesor1',_'m1.3') 1.0\n",
      "_('profesor2',_'m0.4') 1.0\n",
      "_('profesor2',_'m1.2') 1.0\n",
      "_('profesor3',_'m1.3') 1.0\n"
     ]
    }
   ],
   "source": [
    "# Afficher les assignations des cours aux salles\n",
    "for c, a in x:\n",
    "  if value(x[c,a])==1:\n",
    "    print(x[c,a], value(x[c,a]))\n",
    "\n",
    "# Afficher les salles utilisées par chaque prof\n",
    "for p, a in y:\n",
    "  if value(y[p,a])==1:\n",
    "    print(y[p,a], value(y[p,a]))"
   ]
  },
  {
   "cell_type": "code",
   "execution_count": 239,
   "metadata": {
    "colab": {
     "base_uri": "https://localhost:8080/"
    },
    "id": "jZY-852mh0xy",
    "outputId": "d741a24d-ac2b-4f50-d989-feb584c2313b"
   },
   "outputs": [
    {
     "name": "stdout",
     "output_type": "stream",
     "text": [
      "Requirement already satisfied: xlsxwriter in c:\\users\\mpete\\onedrive\\bureau\\upwork\\pulp\\assignation\\lib\\site-packages (3.1.2)\n",
      "Note: you may need to restart the kernel to use updated packages.\n"
     ]
    },
    {
     "name": "stderr",
     "output_type": "stream",
     "text": [
      "WARNING: You are using pip version 20.1.1; however, version 23.1.2 is available.\n",
      "You should consider upgrading via the 'c:\\Users\\mpete\\OneDrive\\Bureau\\Upwork\\PulP\\assignation\\Scripts\\python.exe -m pip install --upgrade pip' command.\n"
     ]
    }
   ],
   "source": [
    "pip install xlsxwriter"
   ]
  },
  {
   "cell_type": "code",
   "execution_count": 240,
   "metadata": {
    "id": "IxVI80TrazLn"
   },
   "outputs": [],
   "source": [
    "import xlsxwriter\n",
    "\n",
    "horarios = [\"08:10-09:50\", \"10:10-11:50\", \"12:10-13:50\", \"14:10-15:50\", \"17:15-18:55\", \"19:00-20:40\"]\n",
    "dias = [\"Lunes\", \"Martes\", \"Miércoles\", \"Jueves\", \"Viernes\"]\n",
    "\n",
    "workbook = xlsxwriter.Workbook('emploi_du_temps.xlsx')\n",
    "\n",
    "for profesor in profesores['nombre']: # Une feuille pour chaque prof\n",
    "    emploi_du_temps = pd.DataFrame(index=horarios, columns=dias)\n",
    "    # Remplissage de la grille avec les informations des cours assignés aux salles et professeurs\n",
    "    for c, a in x:\n",
    "        if value(x[c,a]) > 0 and cursos.loc[cursos['nombre'] == c, 'professor'].values[0] == profesor:\n",
    "            horario = cursos.loc[cursos['nombre'] == c, 'horario'].values[0]\n",
    "            dia = eval(cursos.loc[cursos['nombre'] == c, 'dias'].values[0]) #C'est un Array de jours\n",
    "            idioma = cursos.loc[cursos['nombre'] == c, 'idioma'].values[0]\n",
    "            for d in dia:\n",
    "                emploi_du_temps.loc[horario, d] = f\"Cours: {c}\\nProfesseur: {profesor}\\nLangue: {idioma}\"\n",
    "\n",
    "    # Création du fichier Excel\n",
    "    worksheet = workbook.add_worksheet(name=profesor) # Nommer la feuille d'après le nom du prof\n",
    "\n",
    "    # Formatage des cellules\n",
    "    bold_format = workbook.add_format({'bold': True, 'border':2})\n",
    "    wrap_format = workbook.add_format({'text_wrap': True, 'border':2})\n",
    "\n",
    "    # Écriture des en-têtes de colonnes\n",
    "    for col, dia in enumerate(emploi_du_temps.columns, start=1):\n",
    "        worksheet.write(0, col, dia, bold_format)\n",
    "\n",
    "    # Écriture des en-têtes de lignes et des informations des cours\n",
    "    for row, horario in enumerate(emploi_du_temps.index, start=1):\n",
    "        worksheet.write(row, 0, horario, bold_format)\n",
    "        for col, dia in enumerate(emploi_du_temps.columns, start=1):\n",
    "            info = emploi_du_temps.loc[horario, dia]\n",
    "            if not isinstance(info,str):\n",
    "                info = \" \"\n",
    "            worksheet.write(row, col, info, wrap_format)\n",
    "\n",
    "    # Ajustement de la largeur des colonnes\n",
    "    worksheet.set_column(0, len(dias), 15)\n",
    "\n",
    "# Enregistrement et fermeture du fichier Excel\n",
    "workbook.close()"
   ]
  },
  {
   "cell_type": "code",
   "execution_count": null,
   "metadata": {
    "id": "jNJTjG9nhxhp"
   },
   "outputs": [],
   "source": []
  }
 ],
 "metadata": {
  "colab": {
   "provenance": []
  },
  "kernelspec": {
   "display_name": "Python 3",
   "language": "python",
   "name": "python3"
  },
  "language_info": {
   "codemirror_mode": {
    "name": "ipython",
    "version": 3
   },
   "file_extension": ".py",
   "mimetype": "text/x-python",
   "name": "python",
   "nbconvert_exporter": "python",
   "pygments_lexer": "ipython3",
   "version": "3.8.8"
  }
 },
 "nbformat": 4,
 "nbformat_minor": 1
}
